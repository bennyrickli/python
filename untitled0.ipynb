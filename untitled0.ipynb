{
  "nbformat": 4,
  "nbformat_minor": 0,
  "metadata": {
    "colab": {
      "provenance": [],
      "authorship_tag": "ABX9TyPCOpC9j7nZrB+7W6Hw2IOe",
      "include_colab_link": true
    },
    "kernelspec": {
      "name": "python3",
      "display_name": "Python 3"
    },
    "language_info": {
      "name": "python"
    }
  },
  "cells": [
    {
      "cell_type": "markdown",
      "metadata": {
        "id": "view-in-github",
        "colab_type": "text"
      },
      "source": [
        "<a href=\"https://colab.research.google.com/github/bennyrickli/python/blob/main/untitled0.ipynb\" target=\"_parent\"><img src=\"https://colab.research.google.com/assets/colab-badge.svg\" alt=\"Open In Colab\"/></a>"
      ]
    },
    {
      "cell_type": "markdown",
      "source": [
        "aula 1"
      ],
      "metadata": {
        "id": "tTWw99vF0Ns2"
      }
    },
    {
      "cell_type": "code",
      "execution_count": null,
      "metadata": {
        "colab": {
          "base_uri": "https://localhost:8080/"
        },
        "id": "aoVoTtGL0MMk",
        "outputId": "117d3dc4-1533-4b23-da24-65514108d2bb"
      },
      "outputs": [
        {
          "output_type": "stream",
          "name": "stdout",
          "text": [
            "Iv competição de programação dá Start\n"
          ]
        }
      ],
      "source": [
        "ano = \"Iv\"\n",
        "print(ano,\"competição de programação dá Start\")"
      ]
    },
    {
      "cell_type": "markdown",
      "source": [
        "aula 2"
      ],
      "metadata": {
        "id": "Otu1PRQ72Pet"
      }
    },
    {
      "cell_type": "code",
      "source": [
        "livro_ficcao = 8\n",
        "livro_n_ficcao = 10\n",
        "livro_infantil = 6\n",
        "pontos_rodrigo = livro_ficcao + livro_n_ficcao + livro_infantil\n",
        "pontos_ana = 2 * livro_ficcao + 5 * livro_infantil\n",
        "pontos_totais = pontos_rodrigo + pontos_ana\n",
        "print(f\"Os pontos totais do Rodrigo são {pontos_rodrigo}\")\n",
        "print(f\"Os pontos totais do ana são {pontos_ana}\")\n",
        "print(f\"Os pontos totais são {pontos_totais}\")"
      ],
      "metadata": {
        "colab": {
          "base_uri": "https://localhost:8080/"
        },
        "id": "wf62Aogw2ZmF",
        "outputId": "cf580de0-be36-4d66-f52d-bf09106f053a"
      },
      "execution_count": null,
      "outputs": [
        {
          "output_type": "stream",
          "name": "stdout",
          "text": [
            "Os pontos totais do Rodrigo são 24\n",
            "Os pontos totais do ana são 46\n",
            "Os pontos totais são 70\n"
          ]
        }
      ]
    },
    {
      "cell_type": "markdown",
      "source": [
        "aula 3"
      ],
      "metadata": {
        "id": "wlCACcWP63yO"
      }
    },
    {
      "cell_type": "code",
      "source": [
        "total_de_figurinhas = int(input(\"Digite o total de figurinhas: \"))\n",
        "numero_de_amigos = int(input(\"Digite o número de amigos: \"))\n",
        "figurinhas_amigo = total_de_figurinhas // (numero_de_amigos + 2)\n",
        "figurinhas_joao = 2 * figurinhas_amigo\n",
        "figurinhas_extras= int(input(\"Digite o número de figurinhas extras: \"))\n",
        "figurinhas_extras = figurinhas_extras // (numero_de_amigos + 2)\n",
        "figurinhas_joao2 = figurinhas_extras * 2\n",
        "\n",
        "print(f\"João recebeu {figurinhas_joao} figurinhas\")\n",
        "print(f\"João recebeu {figurinhas_joao2} figurinhas extras\")"
      ],
      "metadata": {
        "colab": {
          "base_uri": "https://localhost:8080/"
        },
        "id": "xsixfqOX64LN",
        "outputId": "fcdd7591-5f43-4c0c-813f-f074fba09724"
      },
      "execution_count": null,
      "outputs": [
        {
          "name": "stdout",
          "output_type": "stream",
          "text": [
            "Digite o total de figurinhas: 20\n",
            "Digite o número de amigos: 4\n"
          ]
        }
      ]
    },
    {
      "cell_type": "markdown",
      "source": [
        "#**aula 4** ✈ ♥ ⚒\n",
        "##dia de aula\n"
      ],
      "metadata": {
        "id": "LvYOY3kZ4JQG"
      }
    },
    {
      "cell_type": "code",
      "source": [
        "P = int(input(\"Digite a posição da porta P (0 ou 1): \"))\n",
        "R = int(input(\"Digite a posição da porta R (0 ou 1): \"))\n",
        "if P == 0:\n",
        "    print(\"C\")\n",
        "elif R == 1:\n",
        "    print(\"A\")\n",
        "else:\n",
        "    print(\"B\")"
      ],
      "metadata": {
        "colab": {
          "base_uri": "https://localhost:8080/"
        },
        "id": "1DkG2n_w4NQN",
        "outputId": "bbeaf5d1-2879-4263-eb25-4557f5fc0ccf"
      },
      "execution_count": null,
      "outputs": [
        {
          "output_type": "stream",
          "name": "stdout",
          "text": [
            "Digite a posição da porta P (0 ou 1): 1\n",
            "Digite a posição da porta R (0 ou 1): 0\n",
            "B\n"
          ]
        }
      ]
    },
    {
      "cell_type": "markdown",
      "source": [
        "aula 5 - cálculo de IMC"
      ],
      "metadata": {
        "id": "e7ePT6EuC_sU"
      }
    },
    {
      "cell_type": "code",
      "source": [
        "peso = float(input(\"Digite seu peso (em kg): \"))\n",
        "altura = float(input(\"Digite sua altura (em metros): \"))\n",
        "imc = peso / (altura ** 2)\n",
        "print(f\"\\nSeu IMC é: {imc:.2f}\")\n",
        "if imc < 18.5:\n",
        "    print(\"Você está abaixo do peso.\")\n",
        "elif 18.5 <= imc < 25:\n",
        "    print(\"Você está no peso ideal.\")\n",
        "elif 25 <= imc < 30:\n",
        "    print(\"Você está com sobrepeso.\")\n",
        "else:\n",
        "    print(\"Você está acima do peso.\")"
      ],
      "metadata": {
        "id": "Yk7yl0FlDDFp"
      },
      "execution_count": null,
      "outputs": []
    },
    {
      "cell_type": "markdown",
      "source": [
        "aula 6 tabuada"
      ],
      "metadata": {
        "id": "wSgY7ZNnDGih"
      }
    },
    {
      "cell_type": "code",
      "source": [
        "def tabuada(numero):\n",
        "    for contador in range(1, 11):  # Gera números de 1 a 10\n",
        "        print(f\"{numero} x {contador} = {numero * contador}\")\n",
        "numero = int(input(\"Digite um número para ver sua tabuada: \"))\n",
        "tabuada(numero)"
      ],
      "metadata": {
        "id": "PNVPvqLnDOqr"
      },
      "execution_count": null,
      "outputs": []
    },
    {
      "cell_type": "markdown",
      "source": [
        "aula 7 idade"
      ],
      "metadata": {
        "id": "XvXqTBDUDR4j"
      }
    },
    {
      "cell_type": "code",
      "source": [
        "def calcula_idade_maior(idade_monica, idade_filho1, idade_filho2):\n",
        "idade_filho3 = idade_monica - idade_filho1 – idade_filho2\n",
        "idade_maxima = max(idade_filho1, idade_filho2, idade_filho3)\n",
        "return idade_filho3, idade_maxima\n",
        "  resultado = calcula_idade_maior(68, 12, 30)\n",
        "print(resultado)"
      ],
      "metadata": {
        "id": "Zc52o3blDS8L"
      },
      "execution_count": null,
      "outputs": []
    },
    {
      "cell_type": "markdown",
      "source": [
        "#**aula 8** ⏰ ♒ ✈"
      ],
      "metadata": {
        "id": "zhIvcVcTD2od"
      }
    },
    {
      "cell_type": "code",
      "source": [
        "print(\"sou seu assistente virtual\")\n",
        "nome = input(\"digite seu nome: \")\n",
        "print(f\"olá {nome},em que posso ajudar?\")\n",
        "resposta == input (\"qual assunto você  deseja tratar? matematica, python ou javascript \")\n",
        "if resposta ==\"python\":\n",
        "  print(\"Ótimo, vamos fa=lar sobre Python!\")\n",
        "elif resposta==\"matemática\":\n",
        "  print(\"Perfeito, vamos resolver umas questões de matemática!\")\n",
        "elif resposta==\"história\":\n",
        "  print(\"Que legal, vamos conversar sobre javascript!\")\n",
        "else:\n",
        "  print(\"Hum, não sei falar sobre esse assunto \")"
      ],
      "metadata": {
        "colab": {
          "base_uri": "https://localhost:8080/"
        },
        "id": "iTZduLSyET-G",
        "outputId": "6e302d7e-4ce0-4830-f24e-0556a1bc9fe3"
      },
      "execution_count": null,
      "outputs": [
        {
          "output_type": "stream",
          "name": "stdout",
          "text": [
            "sou seu assistente virtual\n"
          ]
        }
      ]
    }
  ]
}